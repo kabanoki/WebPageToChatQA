{
  "nbformat": 4,
  "nbformat_minor": 0,
  "metadata": {
    "colab": {
      "provenance": [],
      "toc_visible": true,
      "include_colab_link": true
    },
    "kernelspec": {
      "name": "python3",
      "display_name": "Python 3"
    },
    "language_info": {
      "name": "python"
    }
  },
  "cells": [
    {
      "cell_type": "markdown",
      "metadata": {
        "id": "view-in-github",
        "colab_type": "text"
      },
      "source": [
        "<a href=\"https://colab.research.google.com/github/kabanoki/WebPageToChatQA/blob/main/WebPageToChatQA.ipynb\" target=\"_parent\"><img src=\"https://colab.research.google.com/assets/colab-badge.svg\" alt=\"Open In Colab\"/></a>"
      ]
    },
    {
      "cell_type": "markdown",
      "source": [
        "# **■■ChatGPT API■■**\n",
        "\n",
        "# !!!!!上から一つづつ[▶]を起動していってください。!!!!!\n",
        "\n",
        "---"
      ],
      "metadata": {
        "id": "IMiPSKoSXnJj"
      }
    },
    {
      "cell_type": "code",
      "execution_count": null,
      "metadata": {
        "id": "SCpzPlm1_bfc"
      },
      "outputs": [],
      "source": [
        "!pip install langchain==0.0.125 openai==0.27.2 chromadb==0.3.14 pypdf==3.7.0 tiktoken==0.3.3 gradio==3.23 unstructured"
      ]
    },
    {
      "cell_type": "markdown",
      "source": [
        "---\n",
        "\n",
        "# *API設定：*\n",
        "\n",
        "最大20ドルまで使用可能です。\n",
        "\n",
        "おそらく一回の検索で0.035ドルぐらいです。\n",
        "\n",
        "GPT-4はまだ使えません。"
      ],
      "metadata": {
        "id": "ZJpsXmDQXhWq"
      }
    },
    {
      "cell_type": "code",
      "source": [
        "import os\n",
        "\n",
        "os.environ[\"OPENAI_API_KEY\"] = \"\"#@param {type:\"string\"}\n",
        "model = 'gpt-3.5-turbo' #@param [\"gpt-3.5-turbo\", \"gpt-4\"] {allow-input: true}\n"
      ],
      "metadata": {
        "id": "DG9BAFChrE0v",
        "cellView": "form"
      },
      "execution_count": 2,
      "outputs": []
    },
    {
      "cell_type": "markdown",
      "source": [
        "---\n",
        "\n",
        "# *データソースURL：*\n",
        "\n",
        "URLの内容を元に質問できます。\n",
        "\n",
        "※URLを切り替えたら更新してください。\n",
        "\n",
        "※https:// から入力してください。\n",
        "\n",
        "※複数URLを設定する場合は[,]で区切ってください。（スペースなし）\n",
        "\n",
        "例\n",
        "https://www.japanprint.co.jp/,https://www.japanprint.co.jp/strength.html,https://www.japanprint.co.jp/company.html, https://www.japanprint.co.jp/location.html,https://pzgd6tejl.jbplt.jp/,"
      ],
      "metadata": {
        "id": "GbyBet6AXbQw"
      }
    },
    {
      "cell_type": "code",
      "source": [
        "url = \"\"#@param {type:\"string\"}\n",
        "\n",
        "from langchain.vectorstores import Chroma\n",
        "from langchain.embeddings import OpenAIEmbeddings\n",
        "from langchain.text_splitter import CharacterTextSplitter\n",
        "from langchain.llms import OpenAI\n",
        "from langchain.chains import VectorDBQA, RetrievalQA\n",
        "from langchain.chat_models import ChatOpenAI\n",
        "from langchain.document_loaders import TextLoader, PyPDFLoader\n",
        "from langchain.indexes import VectorstoreIndexCreator\n",
        "import openai\n",
        "from langchain import text_splitter\n",
        "from langchain.document_loaders.url import UnstructuredURLLoader\n",
        "from langchain import PromptTemplate\n",
        "\n",
        "\n",
        "urls = url.split(\",\")\n",
        "\n",
        "print(urls)\n",
        "\n",
        "loader = UnstructuredURLLoader(urls=urls)\n",
        "documents = loader.load()\n",
        "\n",
        "text_splitter = CharacterTextSplitter(\n",
        "    separator = \"\\n\",\n",
        "    chunk_size = 1000,\n",
        "    chunk_overlap = 0,\n",
        "    length_function = len,\n",
        ")\n",
        "\n",
        "texts = text_splitter.split_documents(documents)\n",
        "embeddings = OpenAIEmbeddings()\n",
        "vectordb = Chroma.from_documents(texts, embeddings)\n",
        "\n",
        "qa = RetrievalQA.from_chain_type(\n",
        "    llm=ChatOpenAI(model_name=model),\n",
        "    chain_type=\"stuff\", \n",
        "    retriever=vectordb.as_retriever(search_kwargs={\"k\": 1})\n",
        ")\n",
        "\n",
        "template = \"\"\"\n",
        "あなたは親切なアシスタントです。下記の質問に日本語で回答してください。\n",
        "質問：{question}\n",
        "回答：\n",
        "\"\"\"\n",
        "\n",
        "prompt = PromptTemplate(\n",
        "    input_variables=[\"question\"],\n",
        "    template=template,\n",
        ")\n",
        "\n"
      ],
      "metadata": {
        "id": "9S0HlZhW_ofN",
        "cellView": "form"
      },
      "execution_count": null,
      "outputs": []
    },
    {
      "cell_type": "markdown",
      "source": [
        "---\n",
        "\n",
        "# *質問：*\n",
        "\n",
        "「新インターフェース」を起動してください"
      ],
      "metadata": {
        "id": "4f5QVgufXWRk"
      }
    },
    {
      "cell_type": "code",
      "source": [
        "#@title  **新インターフェース**\n",
        "import gradio as gr\n",
        "\n",
        "def add_text(history, text):\n",
        "    history = history + [(text, None)]\n",
        "    return history, \"\"\n",
        "\n",
        "def bot(history):\n",
        "    query = history[-1][0]\n",
        "    query = prompt.format(question=query)\n",
        "    answer = qa.run(query)\n",
        "    history[-1][1] = answer\n",
        "    return history\n",
        "\n",
        "with gr.Blocks() as demo:\n",
        "    chatbot = gr.Chatbot([], elem_id=\"chatbot\").style(height=350)\n",
        "\n",
        "    with gr.Row():\n",
        "        with gr.Column(scale=0.6):\n",
        "            txt = gr.Textbox(\n",
        "                show_label=False,\n",
        "                placeholder=\"入力後にエンターキーを押してください。\",\n",
        "            ).style(container=False)\n",
        "\n",
        "    txt.submit(add_text, [chatbot, txt], [chatbot, txt]).then(\n",
        "        bot, chatbot, chatbot\n",
        "    )\n",
        "\n",
        "demo.launch()"
      ],
      "metadata": {
        "cellView": "form",
        "id": "RJCCUQ_I15Xc"
      },
      "execution_count": null,
      "outputs": []
    },
    {
      "cell_type": "code",
      "source": [
        "#@title 旧インターフェース\n",
        "query = \"\\u5927\\u962A\\u652F\\u90E8\\u306E\\u63A1\\u7528\\u6642\\u306E\\u6708\\u7D66\\u3092\\u6559\\u3048\\u3066\\u304F\\u3060\\u3055\\u3044\\u3002\"#@param {type:\"string\"}\n",
        "query = prompt.format(question=query)\n",
        "answer = qa.run(query)\n",
        "print(answer)"
      ],
      "metadata": {
        "cellView": "form",
        "id": "DOjVlWbvViKK"
      },
      "execution_count": null,
      "outputs": []
    }
  ]
}
